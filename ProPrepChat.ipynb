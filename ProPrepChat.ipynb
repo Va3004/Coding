{
  "nbformat": 4,
  "nbformat_minor": 0,
  "metadata": {
    "colab": {
      "provenance": [],
      "mount_file_id": "1YIE37oLAcAfUhm1w5vk9zwUJjAdN_03g",
      "authorship_tag": "ABX9TyOv3nT1uzJQybdKhauYQyjZ",
      "include_colab_link": true
    },
    "kernelspec": {
      "name": "python3",
      "display_name": "Python 3"
    },
    "language_info": {
      "name": "python"
    }
  },
  "cells": [
    {
      "cell_type": "markdown",
      "metadata": {
        "id": "view-in-github",
        "colab_type": "text"
      },
      "source": [
        "<a href=\"https://colab.research.google.com/github/Va3004/Coding/blob/main/ProPrepChat.ipynb\" target=\"_parent\"><img src=\"https://colab.research.google.com/assets/colab-badge.svg\" alt=\"Open In Colab\"/></a>"
      ]
    },
    {
      "cell_type": "code",
      "source": [
        "import re\n",
        "import random"
      ],
      "metadata": {
        "id": "zKbbnoQkMKf-"
      },
      "execution_count": null,
      "outputs": []
    },
    {
      "cell_type": "code",
      "source": [
        "class ProPrepChat:\n",
        "  def __init__(self):\n",
        "        self.Internships = {\n",
        "            \"how to find internships\": \"To find internships, utilize online job boards like LinkedIn, Indeed, and Glassdoor. Network with professionals in your field, attend career fairs, and check university career service websites for internship opportunities.\",\n",
        "            \"skills required\": \"Common skills sought by employers for internships include communication, teamwork, problem-solving, time management, and technical skills relevant to your field of interest. Consider gaining experience through projects, internships, and extracurricular activities.\",\n",
        "            \"list of companies\": \"Companies and institutes offering internships vary by field. Research industry leaders, startups, government agencies, and non-profits in your area of interest. Check their career pages and reach out to inquire about internship opportunities.\",\n",
        "            \"paid or unpaid\": \"Internships can be paid or unpaid. Paid internships typically offer financial compensation, while unpaid internships may offer valuable experience but no financial compensation. Consider your financial needs and career goals when choosing between paid and unpaid internships.\",\n",
        "            \"stipend offered\": \"Paid internships may offer a stipend or hourly wage, depending on the company and industry. Stipend amounts vary based on factors such as location, company size, and internship duration. Research typical stipend ranges for your field and geographic area.\",\n",
        "            \"eligibility criteria\": \"Eligibility criteria for internships vary by company and position. Common requirements include enrollment in a college or university program, specific academic majors or coursework, and minimum GPA requirements. Review internship postings carefully for eligibility criteria.\",\n",
        "            \"accommodation and prices\": \"Some companies may offer accommodation or assistance with housing for interns, especially for positions requiring relocation. Accommodation arrangements and prices vary by location and company policy. Research local housing options and consider factors like cost, proximity to work, and amenities.\",\n",
        "            \"documentation required\": \"Documentation requirements for internship applications typically include a resume, cover letter, and transcripts. Some positions may require additional materials such as a portfolio or writing samples. Tailor your application materials to each internship opportunity.\",\n",
        "            \"part time or full time\": \"Internships may be part-time or full-time, depending on the company and position. Part-time internships typically require fewer hours per week and may offer more flexibility for students with academic commitments. Consider your schedule and availability when choosing between part-time and full-time internships.\",\n",
        "            \"duration of internships\": \"The duration of internships varies depending on the company and position. Internships may range from a few weeks to several months, with typical durations between 8 to 12 weeks. Longer internships may provide more in-depth experiences and opportunities for skill development.\",\n",
        "            \"better paid or unpaid\": \"Both paid and unpaid internships offer valuable learning experiences. Paid internships provide financial compensation, while unpaid internships may offer opportunities to gain valuable skills and industry experience. Consider your financial situation and career goals when deciding.\",\n",
        "            \"internship ideas\": \"Internship ideas vary by field and industry. Consider internships in areas such as marketing, software development, finance, research, and nonprofit work. Look for opportunities that align with your interests, skills, and career goals.\",\n",
        "            \"unique internship opportunities\": \"Unique internship opportunities offer hands-on experience in specialized areas and can provide valuable insights into emerging industries or niche fields. Consider exploring internships in fields such as sustainability, virtual reality, blockchain technology, esports, social media management, event planning, digital marketing, bioinformatics, renewable energy, wildlife conservation, and urban planning. Look for opportunities that align with your interests, skills, and career goals, and don't hesitate to reach out to companies or organizations directly to inquire about internship possibilities in these unique areas.\"\n",
        "        }\n",
        "        self.General_aptitude = {\n",
        "            \"improve aptitude skills\": \"To improve your aptitude skills, practice regularly with aptitude test books, online resources, and mock exams. Focus on understanding key concepts and techniques for solving different types of aptitude questions.\",\n",
        "            \"effective strategies\": \"Effective strategies for aptitude test preparation include time management, systematic practice, identifying strengths and weaknesses, and seeking help from tutors or study groups. Break down complex problems into manageable parts and review your performance regularly to track progress.\",\n",
        "            \"practice tests\": \"You can find practice tests for aptitude exams on various online platforms, including official exam websites, educational websites, and mobile apps. Additionally, consider using aptitude test books and study guides that include practice questions with explanations.\",\n",
        "            \"types of aptitude tests\": \"Common types of aptitude tests include numerical reasoning, verbal reasoning, abstract reasoning, logical reasoning, and spatial reasoning tests. Each test assesses different cognitive abilities and problem-solving skills.\",\n",
        "            \"recommend resources\": \"Recommended resources for learning aptitude include books such as 'How to Prepare for Quantitative Aptitude' by Arun Sharma, online courses on platforms like Coursera and Khan Academy, and practice websites like Khan Academy and JobTestPrep.\",\n",
        "            \"solving techniques\": \"Techniques for solving aptitude questions quickly and accurately include identifying patterns, using shortcuts, practicing mental math, and eliminating answer choices. Break down complex problems into simpler steps and use logical reasoning to approach questions systematically.\",\n",
        "            \"focus topics\": \"Focus on topics such as arithmetic, algebra, geometry, data interpretation, and logical reasoning for aptitude tests. Review basic concepts and practice solving problems in each topic area to build confidence and proficiency.\",\n",
        "            \"importance of aptitude\": \"Aptitude is important in college admissions and job interviews as it assesses your problem-solving abilities, critical thinking skills, and numerical reasoning. Demonstrating strong aptitude can enhance your academic performance and career prospects.\",\n",
        "            \"time management tips\": \"To manage time during aptitude tests, prioritize questions based on difficulty, allocate specific time limits for each section, and skip difficult questions to return to later if time permits. Practice time management techniques during mock exams to improve efficiency.\",\n",
        "            \"real life situations\": \"Aptitude skills are valuable in real-life situations such as budgeting finances, analyzing data, making decisions under pressure, and solving everyday problems. Improving your aptitude can enhance your problem-solving abilities and decision-making skills in various contexts.\",\n",
        "            \"common mistakes\": \"Common mistakes to avoid when attempting aptitude questions include overlooking key details, rushing through questions without understanding them, and relying too heavily on memorization rather than problem-solving strategies. Practice patience, accuracy, and careful reading to minimize errors.\",\n",
        "            \"stay motivated\": \"To stay motivated while practicing aptitude, set specific goals, break down your study sessions into manageable tasks, reward yourself for progress, and maintain a positive attitude. Surround yourself with supportive peers and mentors who encourage your efforts.\"\n",
        "        }\n",
        "        self.Interview_Preparations = {\n",
        "            \"research company\": \"Before an interview, research the company's history, mission, products/services, culture, recent news, and any notable achievements. Understanding the company's background demonstrates your interest and preparedness.\",\n",
        "            \"practice common questions\": \"Practice common interview questions such as 'Tell me about yourself,' 'Why do you want to work here,' 'What are your strengths and weaknesses,' and 'Describe a challenge you've overcome.' Prepare concise yet informative responses to showcase your qualifications and experiences.\",\n",
        "            \"dress appropriately\": \"Dress appropriately for the interview by wearing professional attire that aligns with the company's dress code and industry standards. Choose conservative and well-fitted clothing in neutral colors to make a positive impression.\",\n",
        "            \"arrive early\": \"Arrive early for the interview to allow time for unexpected delays and to demonstrate punctuality and reliability. Aim to arrive 10-15 minutes before the scheduled interview time.\",\n",
        "            \"bring copies\": \"Bring multiple copies of your resume, a list of references, a notepad, and a pen to the interview. Offering copies of your resume shows preparedness and allows interviewers to follow along as you discuss your experiences.\",\n",
        "            \"prepare questions\": \"Prepare thoughtful questions to ask the interviewer about the company, role, team dynamics, and future opportunities. Asking insightful questions demonstrates your interest in the position and company.\",\n",
        "            \"practice body language\": \"Practice positive body language by maintaining eye contact, offering a firm handshake, sitting upright, and avoiding fidgeting or slouching. Nonverbal cues convey confidence and professionalism.\",\n",
        "            \"follow up\": \"Send a thank-you email or handwritten note within 24 hours of the interview to express gratitude for the opportunity, reiterate your interest in the position, and briefly mention key points discussed during the interview.\",\n",
        "            \"research interviewers\": \"Research the interviewers' backgrounds, roles, and contributions to the company. This information can help you tailor your responses and ask relevant questions during the interview.\",\n",
        "            \"practice mock interviews\": \"Practice mock interviews with a friend, family member, or career advisor to simulate the interview experience and receive feedback on your responses, body language, and overall presentation.\",\n",
        "            \"review resume\": \"Review your resume and be prepared to discuss your experiences, accomplishments, and skills in detail. Highlight relevant achievements and tailor your responses to match the job requirements.\",\n",
        "            \"stay positive\": \"Stay positive and confident throughout the interview process. Approach each question with enthusiasm and sincerity, and focus on showcasing your qualifications and fit for the role.\",\n",
        "            \"prepare portfolio\": \"If applicable, prepare a portfolio showcasing your work samples, projects, and achievements. Presenting a well-organized portfolio can enhance your credibility and demonstrate your skills in action.\",\n",
        "            \"Information Include omit\": \"Interviewer may ask tell me something that is not in your resume, for such question you can tell something about your family, or something about you that is not relevant to resume but you would like to tell and omit things that can leave a bad impression about you and your personality, try to tell only positive sides.\"\n",
        "        }\n",
        "        self.Resume = {\n",
        "            \"choose appropriate format\": \"Choose an appropriate format for your resume, such as chronological, functional, or combination. Tailor the format to highlight your strengths and relevant experiences.\",\n",
        "            \"include contact information\": \"Include your contact information at the top of your resume, including your full name, phone number, email address, and LinkedIn profile URL. Make sure your contact details are accurate and professional.\",\n",
        "            \"highlight key skills\": \"Highlight key skills and qualifications relevant to the job you're applying for. Use bullet points to list your skills and include specific examples or achievements to demonstrate proficiency.\",\n",
        "            \"summarize experience\": \"Summarize your work experience in reverse chronological order, starting with your most recent job. Include job titles, company names, locations, dates of employment, and brief descriptions of your responsibilities and accomplishments.\",\n",
        "            \"quantify achievements\": \"Quantify your achievements whenever possible by including numbers, percentages, or other metrics. This helps employers understand the impact of your contributions and demonstrates your effectiveness.\",\n",
        "            \"customization for each job\": \"Customize your resume for each job application by emphasizing relevant experiences, skills, and achievements that match the job description. Tailoring your resume increases your chances of getting noticed by employers.\",\n",
        "            \"proofread and edit\": \"Proofread your resume carefully to check for typos, grammatical errors, and formatting inconsistencies. Consider asking a friend or mentor to review your resume for feedback before submitting it.\",\n",
        "            \"use professional language\": \"Use professional language and industry-specific terminology in your resume to convey expertise and professionalism. Avoid slang, abbreviations, and overly casual language.\",\n",
        "            \"keep it concise\": \"Keep your resume concise and focused by limiting it to one or two pages. Include only relevant information that directly supports your qualifications for the job.\",\n",
        "            \"include additional sections\": \"Consider including additional sections in your resume, such as a summary or objective statement, education, certifications, volunteer work, projects, honors and awards, or professional memberships.\",\n",
        "            \"format consistency\": \"Maintain consistency in formatting throughout your resume, including font style, size, and spacing. Use bullet points, bold text, and headings to organize information and make it easy to read.\",\n",
        "            \"suggested font style\": \"Use a professional and easy-to-read font style such as Arial, Calibri, or Times New Roman. Avoid decorative or overly stylized fonts that may be difficult to read.\",\n",
        "            \"suggested font size\": \"Use a font size between 10 and 12 points for the main text of your resume. Headings and section titles can be slightly larger, around 14 to 16 points, to make them stand out.\",\n",
        "            \"size of resume\": \"Limit your resume to one or two pages, depending on your level of experience and the job requirements. Entry-level candidates typically have a one-page resume, while more experienced professionals may extend to two pages.\",\n",
        "            \"information to omit\": \"Omit irrelevant or outdated information such as high school education, irrelevant work experiences, and unrelated skills. Focus on highlighting experiences and skills that are most relevant to the job you're applying for.\",\n",
        "            \"information to include\": \"Include essential information such as your contact details, work experience, education, relevant skills, certifications, and any additional sections that showcase your qualifications and achievements.\",\n",
        "            \"Hobbies\": \"Add hobbies that you really do ,not just for the sake of it,because some companies most likely test the interviewee based on the hobbies mentioned,for example if you mentioned singing songs as your hobby they may test you by making you listen to a song and tell you to identify the singer and anything.\"\n",
        "        }\n",
        "        self.Placement_Preparation = {\n",
        "             \"research companies\": \"Before placement season, research companies visiting your campus to understand their industries, job roles, company culture, and recruitment processes. Prioritize companies that align with your career goals and interests.\",\n",
        "            \"prepare resume and cover letter\": \"Prepare a professional resume and tailored cover letter highlighting your skills, experiences, and achievements. Customize your application materials for each company and job opportunity.\",\n",
        "            \"practice interview skills\": \"Practice your interview skills through mock interviews, behavioral interview questions, technical interview preparation, and group discussions. Seek feedback from mentors, career counselors, or peers to improve your performance.\",\n",
        "            \"network with alumni and professionals\": \"Network with alumni, industry professionals, and recruiters through career fairs, networking events, informational interviews, and online platforms like LinkedIn. Building connections can lead to valuable insights and job opportunities.\",\n",
        "            \"attend company presentations\": \"Attend company presentations, campus recruitment drives, and pre-placement talks to learn about job opportunities, company culture, and recruitment processes. Engage with recruiters and ask thoughtful questions to demonstrate interest.\",\n",
        "            \"utilize placement services\": \"Utilize placement services offered by your college or university, including resume workshops, interview preparation sessions, job postings, and career counseling. Take advantage of resources and support available to you.\",\n",
        "            \"apply to multiple opportunities\": \"Apply to multiple job opportunities to increase your chances of securing interviews and job offers. Cast a wide net and explore diverse roles and industries to find the best fit for your skills and interests.\",\n",
        "            \"maintain positive attitude\": \"Maintain a positive attitude throughout the placement process, even in the face of rejection or setbacks. Stay resilient, proactive, and open-minded to new opportunities that may arise.\",\n",
        "            \"Company objectives\": \"Research about the company and job you are going to interview for,research about their objectives ,goals and what they find in their employees and formulate your resume and answers according to that\",\n",
        "             \"Resume\": \"Do not use same resume for each company,every company is different,according to the objectives and goals of each company add or remove information in your resume and then send it to the company\",\n",
        "             \"Personality\": \"Before going for the interview,be confident,you will be nervous but don't show it by your actions and words or through your body actions, your each move should reflect your confidence,many comapnies hire their employees based on their persona.\"\n",
        "             }\n",
        "        self.Career_Goals = {\n",
        "            \"pursuing higher education\": \"Consider pursuing higher education to advance your career prospects. Research different postgraduate programs such as Master's degrees, PhDs, MBAs, and professional certifications. Evaluate program requirements, curriculum, faculty, and career outcomes to make informed decisions.\",\n",
        "            \"competitive exams after graduation\": \"After graduation, you can prepare for various competitive exams depending on your career goals. Examples include the Graduate Record Examination (GRE), Graduate Management Admission Test (GMAT), Common Admission Test (CAT), Civil Services Examination (UPSC), Graduate Aptitude Test in Engineering (GATE), and more. Research exam patterns, syllabus, eligibility criteria, and preparation strategies.\",\n",
        "            \"competitive exams post graduation\": \"After post-graduation, you may consider competitive exams for specific career paths or further studies. Examples include the National Eligibility Test (NET), Joint Entrance Examination for Masters (JAM), Management Aptitude Test (MAT), Medical Entrance Exams (NEET, AIIMS), and more. Research exam dates, application procedures, and study resources.\",\n",
        "            \"career options after graduation\": \"Career options after graduation vary depending on your field of study. For example, graduates in engineering can pursue careers in software development, civil engineering, mechanical engineering, etc. Graduates in commerce can explore roles in finance, accounting, marketing, etc. Graduates in arts can consider fields such as journalism, public relations, event management, etc. Research industry demand, salary prospects, and job growth in different sectors.\",\n",
        "            \"how to apply for exams and courses\": \"To apply for competitive exams, visit the official websites of respective exam conducting bodies. Fill out the application form online or offline as per instructions, pay the application fee, and upload required documents. For postgraduate courses, research universities and colleges offering programs of interest, check eligibility criteria, application deadlines, and admission procedures. Prepare necessary documents such as transcripts, recommendation letters, and entrance exam scores.\"\n",
        "             }\n",
        "\n",
        "  def get_response(self,user_input):\n",
        "          for internship, response in self.Internships.items():\n",
        "             if internship in user_input.lower():\n",
        "              return response\n",
        "\n",
        "          for aptitude, response in self.General_aptitude.items():\n",
        "            if aptitude in user_input.lower():\n",
        "              return response\n",
        "\n",
        "          for  interview, response in  self.Interview_Preparations.items():\n",
        "            if interview in user_input.lower():\n",
        "              return response\n",
        "\n",
        "          for resume, response in  self.Resume.items():\n",
        "            if resume in user_input.lower():\n",
        "              return response\n",
        "\n",
        "          for  placement, response in  self.Placement_Preparation.items():\n",
        "            if placement in user_input.lower():\n",
        "              return response\n",
        "\n",
        "          for career, response in  self.Career_Goals.items():\n",
        "            if career in user_input.lower():\n",
        "              return response\n",
        "\n",
        "          return \"I am sorry , I couldn't find the information about the topic you are asking about. Please try again or ask a different question.\"\n",
        "#Example usage\n",
        "chatbot = ProPrepChat()\n",
        "while True:\n",
        "  user_input = input(\"What information are you looking for?\").strip()\n",
        "  if user_input.lower() == \"exit\":\n",
        "    print(\"All the best for your studies!\")\n",
        "    break\n",
        "  response = chatbot.get_response(user_input)\n",
        "  print(response)"
      ],
      "metadata": {
        "id": "rT0hFVBMMW21",
        "colab": {
          "base_uri": "https://localhost:8080/"
        },
        "outputId": "8a191913-641d-4ede-8afb-042d3cedaa8d"
      },
      "execution_count": null,
      "outputs": [
        {
          "output_type": "stream",
          "name": "stdout",
          "text": [
            "What information are you looking for?I am looking for internship\n",
            "I am sorry , I couldn't find the information about the topic you are asking about. Please try again or ask a different question.\n",
            "What information are you looking for?internship\n",
            "I am sorry , I couldn't find the information about the topic you are asking about. Please try again or ask a different question.\n",
            "What information are you looking for?how to find internships?\n",
            "To find internships, utilize online job boards like LinkedIn, Indeed, and Glassdoor. Network with professionals in your field, attend career fairs, and check university career service websites for internship opportunities.\n",
            "What information are you looking for?what all to include in resume\n",
            "I am sorry , I couldn't find the information about the topic you are asking about. Please try again or ask a different question.\n",
            "What information are you looking for?What contact information to include in resume\n",
            "Include essential information such as your contact details, work experience, education, relevant skills, certifications, and any additional sections that showcase your qualifications and achievements.\n",
            "What information are you looking for?font size for resumw\n",
            "I am sorry , I couldn't find the information about the topic you are asking about. Please try again or ask a different question.\n"
          ]
        }
      ]
    }
  ]
}